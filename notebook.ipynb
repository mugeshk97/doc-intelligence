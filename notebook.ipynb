{
 "cells": [
  {
   "cell_type": "code",
   "execution_count": null,
   "metadata": {},
   "outputs": [],
   "source": [
    "\n",
    "from docling.datamodel.base_models import InputFormat, ConversionStatus\n",
    "from docling.document_converter import DocumentConverter, PdfFormatOption\n",
    "from docling.datamodel.pipeline_options import PdfPipelineOptions, TableFormerMode, TesseractOcrOptions\n",
    "from docling_core.transforms.chunker import HierarchicalChunker\n",
    "from docling.pipeline.standard_pdf_pipeline import  StandardPdfPipeline\n",
    "\n",
    "from docling_core.transforms.chunker import HierarchicalChunker\n"
   ]
  },
  {
   "cell_type": "code",
   "execution_count": null,
   "metadata": {},
   "outputs": [],
   "source": [
    "# StandardPdfPipeline.download_models_hf(local_dir=\"docling-models\")"
   ]
  },
  {
   "cell_type": "code",
   "execution_count": null,
   "metadata": {},
   "outputs": [],
   "source": [
    "\n",
    "pipeline_options = PdfPipelineOptions(do_table_structure=True)\n",
    "pipeline_options.table_structure_options.mode = TableFormerMode.ACCURATE  # use more accurate TableFormer model\n",
    "pipeline_options.do_ocr =True\n",
    "pipeline_options.ocr_options = TesseractOcrOptions(path=\"/usr/share/tesseract-ocr/4.00/tessdata/\")\n",
    "pipeline_options.artifacts_path = \"/home/mugesh/Project/rag/docling-models\""
   ]
  },
  {
   "cell_type": "code",
   "execution_count": null,
   "metadata": {},
   "outputs": [],
   "source": [
    "doc_converter = DocumentConverter(\n",
    "    format_options={\n",
    "        InputFormat.PDF: PdfFormatOption(pipeline_options=pipeline_options)\n",
    "    }\n",
    ")\n",
    "\n",
    "\n",
    "\n",
    "result = doc_converter.convert(\"/home/mugesh/Downloads/Untitled document.pdf\")\n",
    "\n",
    "print(result.document.export_to_markdown())\n",
    "\n"
   ]
  },
  {
   "cell_type": "code",
   "execution_count": null,
   "metadata": {},
   "outputs": [],
   "source": [
    "doc = result.document\n",
    "chunks = list(HierarchicalChunker().chunk(doc))\n",
    "\n",
    "len(chunks)"
   ]
  },
  {
   "cell_type": "code",
   "execution_count": null,
   "metadata": {},
   "outputs": [],
   "source": [
    "for j in chunks:\n",
    "    print(j.meta.doc_items[0].prov[0].page_no)\n",
    "    print(j.meta.headings)\n",
    "    print(j.meta.doc_items[0].label)\n",
    "    print(j.text)\n",
    "    print()\n",
    "    # break"
   ]
  },
  {
   "cell_type": "code",
   "execution_count": null,
   "metadata": {},
   "outputs": [],
   "source": []
  }
 ],
 "metadata": {
  "kernelspec": {
   "display_name": ".venv",
   "language": "python",
   "name": "python3"
  },
  "language_info": {
   "codemirror_mode": {
    "name": "ipython",
    "version": 3
   },
   "file_extension": ".py",
   "mimetype": "text/x-python",
   "name": "python",
   "nbconvert_exporter": "python",
   "pygments_lexer": "ipython3",
   "version": "3.10.12"
  }
 },
 "nbformat": 4,
 "nbformat_minor": 2
}
