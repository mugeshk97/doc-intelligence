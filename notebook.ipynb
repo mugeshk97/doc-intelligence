{
 "cells": [
  {
   "cell_type": "code",
   "execution_count": 5,
   "metadata": {},
   "outputs": [],
   "source": [
    "\n",
    "from docling.datamodel.base_models import InputFormat, ConversionStatus\n",
    "from docling.document_converter import DocumentConverter, PdfFormatOption\n",
    "from docling.datamodel.pipeline_options import PdfPipelineOptions, TableFormerMode, TesseractOcrOptions, EasyOcrOptions\n",
    "from docling_core.transforms.chunker import HierarchicalChunker\n",
    "from docling.pipeline.standard_pdf_pipeline import  StandardPdfPipeline\n",
    "\n",
    "from docling_core.transforms.chunker import HierarchicalChunker\n"
   ]
  },
  {
   "cell_type": "code",
   "execution_count": 6,
   "metadata": {},
   "outputs": [],
   "source": [
    "# StandardPdfPipeline.download_models_hf(local_dir=\"docling-models\")"
   ]
  },
  {
   "cell_type": "code",
   "execution_count": 9,
   "metadata": {},
   "outputs": [],
   "source": [
    "\n",
    "pipeline_options = PdfPipelineOptions(do_table_structure=True)\n",
    "pipeline_options.table_structure_options.mode = TableFormerMode.ACCURATE  # use more accurate TableFormer model\n",
    "# pipeline_options.do_ocr =True\n",
    "# pipeline_options.ocr_options = TesseractOcrOptions(path=\"/usr/share/tesseract-ocr/4.00/tessdata/\")\n",
    "# pipeline_options.artifacts_path = \"/home/mugesh/Project/rag/docling-models\"\n",
    "\n",
    "pipeline_options.table_structure_options.mode = TableFormerMode.ACCURATE\n",
    "pipeline_options.do_ocr = True\n",
    "pipeline_options.ocr_options = EasyOcrOptions(use_gpu=True)\n",
    "pipeline_options.generate_picture_images = True\n"
   ]
  },
  {
   "cell_type": "code",
   "execution_count": 10,
   "metadata": {},
   "outputs": [
    {
     "name": "stderr",
     "output_type": "stream",
     "text": [
      "/home/mugesh/Project/doc-intelligence/.venv/lib/python3.11/site-packages/docling/models/easyocr_model.py:58: UserWarning: Deprecated field. Better to set the `accelerator_options.device` in `pipeline_options`. When `use_gpu and accelerator_options.device == AcceleratorDevice.CUDA` the GPU is used to run EasyOCR. Otherwise, EasyOCR runs in CPU.\n",
      "  warnings.warn(\n"
     ]
    },
    {
     "name": "stdout",
     "output_type": "stream",
     "text": [
      "## PDF Parsers Comparison\n",
      "\n",
      "<!-- image -->\n",
      "\n",
      "<!-- image -->\n",
      "\n",
      "<!-- image -->\n",
      "\n",
      "<!-- image -->\n",
      "\n",
      "| Feature/Tool                               | MarkltDown                                                                                                                   | PyMuPDFALLM                                                                                   | LlamaParse                                           | Unstructured                              | Docling (IBM)                                                                                  |\n",
      "|--------------------------------------------|------------------------------------------------------------------------------------------------------------------------------|-----------------------------------------------------------------------------------------------|------------------------------------------------------|-------------------------------------------|------------------------------------------------------------------------------------------------|\n",
      "| formats                                    | PDF , PowerPoint, Word Excel, Text - Supported document   based formats (CSV, JSON, XML), ZIP files (iterates over contents) | PDF-in free version PyMuPDF Pro Word Excel, PowerPoint                                        | based formats (CSV, JSON, XML) , RTF, HTML           | based formats (CSV, JSON, XML), RTF, HTML | HTML                                                                                           |\n",
      "| OCR Capability                             | Yes (Tesseract)                                                                                                              | Yes (Tesseract)                                                                               | Yes                                                  | Yes                                       | Yes(Tesseract)                                                                                 |\n",
      "| Text Image Parsing                         | Yes                                                                                                                          | Yes                                                                                           | Yes                                                  | Yes                                       | Yes                                                                                            |\n",
      "| Markdown Output                            | Yes                                                                                                                          | Yes (need to verify with OCR)                                                                 | Yes                                                  | Yes (need to verify)                      | Yes                                                                                            |\n",
      "| Table Identification                       | Yes                                                                                                                          | Yes                                                                                           | Yes                                                  | Yes                                       | Yes                                                                                            |\n",
      "| Page Range Specitication                   | Yes                                                                                                                          | Yes                                                                                           | Yes                                                  |                                           |                                                                                                |\n",
      "| Max No pages in single API call invocation | No specified limit on page number contiguration performance will vary.                                                       | No specified limit on page number depends on the machine configuration performancewill vary . | No page limit explicitly mentioned in documentation. | No page limit explicitly mentioned\\_       | No specified limit on page number depends on the machine contiguration performance will vary . |\n",
      "| API/Library                                | Library                                                                                                                      | Library                                                                                       | API                                                  | API                                       | Library                                                                                        |\n",
      "| Ease of Use                                | High                                                                                                                         | Medium                                                                                        | High                                                 | High                                      | Medium (Limited documentation)                                                                 |\n",
      "| Documentation                              | Comprehensive                                                                                                                | Limited                                                                                       | Comprehensive                                        | Comprehensive                             | Limited documentation                                                                          |\n",
      "\n",
      "## PDF Parsers Comparison\n",
      "\n",
      "| Feature/Tool                        | MarkltDown         | PyMuPDFALLM                                          | LlamaParse                                                                                                                                                        | Unstructured                                                                                                                           | Docling                       |\n",
      "|-------------------------------------|--------------------|------------------------------------------------------|-------------------------------------------------------------------------------------------------------------------------------------------------------------------|----------------------------------------------------------------------------------------------------------------------------------------|-------------------------------|\n",
      "| Pricing (derived for million pages) | (Open Source) Free | PyMuPDF pro                                          | Prcing is based on credits. 7000 credits are free after that S3for 1000 credits. Cost may go upto S60 for 1000 mode; layout extraction TODO: 5 millian pages cost | Unstructured Serverless API: Pay- As-You-Go Azure Pay-As-You-Go: Pay-As-You-Go Pricing per hour of compute is $2.66 Core library: Open | to use under MIT license Free |\n",
      "| License                             | MIT license        | APGL License Commercial License                      |                                                                                                                                                                   | license. Platform(API & Service) Plan: Pre-paid based on the                                                                           | MIT license                   |\n",
      "| Pre-requisites                      |                    | For Commercial use PyMuPDF Pro subscription required | 1000 credits per   day For exhausted . Paid Plan: Per 1000 pages processing cost vary from $15 560 Free                                                           | OCR and other capabilities Enterprise                                                                                                  |                               |\n",
      "\n",
      "## Employment Application\n",
      "\n",
      "Application Information\n",
      "\n",
      "Full Name: Jane Doe\n",
      "\n",
      "Phone Number:\n",
      "\n",
      "Home Address:\n",
      "\n",
      "23 Stree Town, Any Any\n",
      "\n",
      "Mailing Address: same as above\n",
      "\n",
      "## Previous Employment History\n",
      "\n",
      "| Start Date   | End Date   | Employer Name   | Position Held   | Reason for leaving   |\n",
      "|--------------|------------|-----------------|-----------------|----------------------|\n",
      "| 1/15/2009    | 6/30/2011  | Company Any     | Assistant baker | relocated            |\n",
      "|              |            | Example\\_Core    |                 |                      |\n",
      "|              |            |                 |                 | Current              |\n",
      "\n",
      "<!-- image -->\n",
      "\n",
      "- Under Attack\n",
      "- in a language we already understand.\n",
      "\n",
      "<!-- image -->\n",
      "\n",
      "Another aspect of literacy transfers as well: The ability to use language to solve problems and thereby grow intellectually Once; for example, someone can use to clarify ideas 'the composing process in one used in any other: Once we are educated, we are educated writing\n",
      "\n",
      "Rossell and Baker (1996) complain that \"it is impossible to say native language development will help second language development: there is no underly psychological mechanism that accounts for the facilitation effect\" to my understand knowledge and literacy together make 'academic language (formerly CALP) This characterization us understand what the advantages are in Provid first language support: Knowledge gained through the first uage makes lish input more comprehensible and literacy gained through the first language transfers to the second why' ing ing helps ing lang Eng\n",
      "\n",
      "## The Three Components\n",
      "\n",
      "If the arguments given here are correct, Predict that bilingual programs will have the following components: they good\n",
      "\n",
      "- 1. Comprehensible input in English, provided directly in the form of ESL and sheltered subject matter classes\n",
      "- 2 Subject matter teaching done in the first language; without translation This indirect help provides background information that helps makes the English that children read and hear more comprehensible. Methods that use the first language for concurrent translation (the teacher speaking in one uage, and then transla what was said into the second language) are not effective in helping children acquire English (Legaretta, 1979, Wong-Fillmore, 1985); when a translation is available; the children do not attend to the input in the second uage and teachers do not have to try to make this input comprehensible. lang) lang'\n",
      "- 3, Literacy development in the first language, which transfers to the second language.\n",
      "\n",
      "A fourth very desirable component is the continuation of the development of\n"
     ]
    }
   ],
   "source": [
    "doc_converter = DocumentConverter(\n",
    "    format_options={\n",
    "        InputFormat.PDF: PdfFormatOption(pipeline_options=pipeline_options)\n",
    "    }\n",
    ")\n",
    "\n",
    "\n",
    "\n",
    "result = doc_converter.convert(\"/home/mugesh/Downloads/test-ocr.pdf\")\n",
    "\n",
    "print(result.document.export_to_markdown())\n",
    "\n"
   ]
  },
  {
   "cell_type": "code",
   "execution_count": 16,
   "metadata": {},
   "outputs": [],
   "source": [
    "\n",
    "# Save the parsed content to a Markdown file\n",
    "with open('docling.md', 'w') as f:\n",
    "    for doc in result.document.export_to_markdown():\n",
    "        f.write(doc)"
   ]
  },
  {
   "cell_type": "code",
   "execution_count": 13,
   "metadata": {},
   "outputs": [
    {
     "data": {
      "text/plain": [
       "'## PDF Parsers Comparison\\n\\n<!-- image -->\\n\\n<!-- image -->\\n\\n<!-- image -->\\n\\n<!-- image -->\\n\\n| Feature/Tool                               | MarkltDown                                                                                                                   | PyMuPDFALLM                                                                                   | LlamaParse                                           | Unstructured                              | Docling (IBM)                                                                                  |\\n|--------------------------------------------|------------------------------------------------------------------------------------------------------------------------------|-----------------------------------------------------------------------------------------------|------------------------------------------------------|-------------------------------------------|------------------------------------------------------------------------------------------------|\\n| formats                                    | PDF , PowerPoint, Word Excel, Text - Supported document   based formats (CSV, JSON, XML), ZIP files (iterates over contents) | PDF-in free version PyMuPDF Pro Word Excel, PowerPoint                                        | based formats (CSV, JSON, XML) , RTF, HTML           | based formats (CSV, JSON, XML), RTF, HTML | HTML                                                                                           |\\n| OCR Capability                             | Yes (Tesseract)                                                                                                              | Yes (Tesseract)                                                                               | Yes                                                  | Yes                                       | Yes(Tesseract)                                                                                 |\\n| Text Image Parsing                         | Yes                                                                                                                          | Yes                                                                                           | Yes                                                  | Yes                                       | Yes                                                                                            |\\n| Markdown Output                            | Yes                                                                                                                          | Yes (need to verify with OCR)                                                                 | Yes                                                  | Yes (need to verify)                      | Yes                                                                                            |\\n| Table Identification                       | Yes                                                                                                                          | Yes                                                                                           | Yes                                                  | Yes                                       | Yes                                                                                            |\\n| Page Range Specitication                   | Yes                                                                                                                          | Yes                                                                                           | Yes                                                  |                                           |                                                                                                |\\n| Max No pages in single API call invocation | No specified limit on page number contiguration performance will vary.                                                       | No specified limit on page number depends on the machine configuration performancewill vary . | No page limit explicitly mentioned in documentation. | No page limit explicitly mentioned\\\\_       | No specified limit on page number depends on the machine contiguration performance will vary . |\\n| API/Library                                | Library                                                                                                                      | Library                                                                                       | API                                                  | API                                       | Library                                                                                        |\\n| Ease of Use                                | High                                                                                                                         | Medium                                                                                        | High                                                 | High                                      | Medium (Limited documentation)                                                                 |\\n| Documentation                              | Comprehensive                                                                                                                | Limited                                                                                       | Comprehensive                                        | Comprehensive                             | Limited documentation                                                                          |\\n\\n## PDF Parsers Comparison\\n\\n| Feature/Tool                        | MarkltDown         | PyMuPDFALLM                                          | LlamaParse                                                                                                                                                        | Unstructured                                                                                                                           | Docling                       |\\n|-------------------------------------|--------------------|------------------------------------------------------|-------------------------------------------------------------------------------------------------------------------------------------------------------------------|----------------------------------------------------------------------------------------------------------------------------------------|-------------------------------|\\n| Pricing (derived for million pages) | (Open Source) Free | PyMuPDF pro                                          | Prcing is based on credits. 7000 credits are free after that S3for 1000 credits. Cost may go upto S60 for 1000 mode; layout extraction TODO: 5 millian pages cost | Unstructured Serverless API: Pay- As-You-Go Azure Pay-As-You-Go: Pay-As-You-Go Pricing per hour of compute is $2.66 Core library: Open | to use under MIT license Free |\\n| License                             | MIT license        | APGL License Commercial License                      |                                                                                                                                                                   | license. Platform(API & Service) Plan: Pre-paid based on the                                                                           | MIT license                   |\\n| Pre-requisites                      |                    | For Commercial use PyMuPDF Pro subscription required | 1000 credits per   day For exhausted . Paid Plan: Per 1000 pages processing cost vary from $15 560 Free                                                           | OCR and other capabilities Enterprise                                                                                                  |                               |\\n\\n## Employment Application\\n\\nApplication Information\\n\\nFull Name: Jane Doe\\n\\nPhone Number:\\n\\nHome Address:\\n\\n23 Stree Town, Any Any\\n\\nMailing Address: same as above\\n\\n## Previous Employment History\\n\\n| Start Date   | End Date   | Employer Name   | Position Held   | Reason for leaving   |\\n|--------------|------------|-----------------|-----------------|----------------------|\\n| 1/15/2009    | 6/30/2011  | Company Any     | Assistant baker | relocated            |\\n|              |            | Example\\\\_Core    |                 |                      |\\n|              |            |                 |                 | Current              |\\n\\n<!-- image -->\\n\\n- Under Attack\\n- in a language we already understand.\\n\\n<!-- image -->\\n\\nAnother aspect of literacy transfers as well: The ability to use language to solve problems and thereby grow intellectually Once; for example, someone can use to clarify ideas \\'the composing process in one used in any other: Once we are educated, we are educated writing\\n\\nRossell and Baker (1996) complain that \"it is impossible to say native language development will help second language development: there is no underly psychological mechanism that accounts for the facilitation effect\" to my understand knowledge and literacy together make \\'academic language (formerly CALP) This characterization us understand what the advantages are in Provid first language support: Knowledge gained through the first uage makes lish input more comprehensible and literacy gained through the first language transfers to the second why\\' ing ing helps ing lang Eng\\n\\n## The Three Components\\n\\nIf the arguments given here are correct, Predict that bilingual programs will have the following components: they good\\n\\n- 1. Comprehensible input in English, provided directly in the form of ESL and sheltered subject matter classes\\n- 2 Subject matter teaching done in the first language; without translation This indirect help provides background information that helps makes the English that children read and hear more comprehensible. Methods that use the first language for concurrent translation (the teacher speaking in one uage, and then transla what was said into the second language) are not effective in helping children acquire English (Legaretta, 1979, Wong-Fillmore, 1985); when a translation is available; the children do not attend to the input in the second uage and teachers do not have to try to make this input comprehensible. lang) lang\\'\\n- 3, Literacy development in the first language, which transfers to the second language.\\n\\nA fourth very desirable component is the continuation of the development of'"
      ]
     },
     "execution_count": 13,
     "metadata": {},
     "output_type": "execute_result"
    }
   ],
   "source": [
    "result.document.export_to_markdown()"
   ]
  },
  {
   "cell_type": "code",
   "execution_count": null,
   "metadata": {},
   "outputs": [],
   "source": [
    "doc = result.document\n",
    "chunks = list(HierarchicalChunker().chunk(doc))\n",
    "\n",
    "len(chunks)"
   ]
  },
  {
   "cell_type": "code",
   "execution_count": null,
   "metadata": {},
   "outputs": [],
   "source": [
    "for j in chunks:\n",
    "    print(j.meta.doc_items[0].prov[0].page_no)\n",
    "    print(j.meta.headings)\n",
    "    print(j.meta.doc_items[0].label)\n",
    "    print(j.text)\n",
    "    print()\n",
    "    # break"
   ]
  },
  {
   "cell_type": "code",
   "execution_count": null,
   "metadata": {},
   "outputs": [],
   "source": []
  }
 ],
 "metadata": {
  "kernelspec": {
   "display_name": ".venv",
   "language": "python",
   "name": "python3"
  },
  "language_info": {
   "codemirror_mode": {
    "name": "ipython",
    "version": 3
   },
   "file_extension": ".py",
   "mimetype": "text/x-python",
   "name": "python",
   "nbconvert_exporter": "python",
   "pygments_lexer": "ipython3",
   "version": "3.11.11"
  }
 },
 "nbformat": 4,
 "nbformat_minor": 2
}
